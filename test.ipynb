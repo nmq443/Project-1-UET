{
 "cells": [
  {
   "cell_type": "code",
   "execution_count": 4,
   "id": "7e6e224c-014a-4bf9-bcf9-76bf04fcabe0",
   "metadata": {},
   "outputs": [
    {
     "name": "stdout",
     "output_type": "stream",
     "text": [
      "Ultralytics YOLOv8.1.32 🚀 Python-3.11.5 torch-2.2.1+cu121 CUDA:0 (NVIDIA GeForce GTX 1650, 4096MiB)\n",
      "Setup complete ✅ (12 CPUs, 15.4 GB RAM, 402.8/670.1 GB disk)\n"
     ]
    }
   ],
   "source": [
    "import ultralytics\n",
    "ultralytics.checks()"
   ]
  },
  {
   "cell_type": "code",
   "execution_count": 5,
   "id": "de69e3fc-268a-4515-8cd7-8ec7c0f9b9b6",
   "metadata": {},
   "outputs": [],
   "source": [
    "model = ultralytics.YOLO('results/runs/detect/train/weights/best.pt')"
   ]
  },
  {
   "cell_type": "code",
   "execution_count": 14,
   "id": "5b3f90c8-048c-4064-ae8c-4b3ecef7a0e4",
   "metadata": {},
   "outputs": [
    {
     "name": "stdout",
     "output_type": "stream",
     "text": [
      "\n",
      "image 1/1 Q:\\Personal\\Study Resources\\Engineering\\Lab 1\\Project-1-UET\\test\\lovepik-a-car-png-image_401434180_wh1200.png: 352x640 1 car, 117.9ms\n",
      "Speed: 4.0ms preprocess, 117.9ms inference, 5.1ms postprocess per image at shape (1, 3, 352, 640)\n"
     ]
    }
   ],
   "source": [
    "image_path = './test/lovepik-a-car-png-image_401434180_wh1200.png'\n",
    "results = model.predict(image_path)"
   ]
  },
  {
   "cell_type": "code",
   "execution_count": 19,
   "id": "033e3fa0-271f-48e4-aa4f-22581bb7efad",
   "metadata": {},
   "outputs": [
    {
     "name": "stdout",
     "output_type": "stream",
     "text": [
      "2D bounding box: \n",
      "ultralytics.engine.results.Boxes object with attributes:\n",
      "\n",
      "cls: tensor([1.], device='cuda:0')\n",
      "conf: tensor([0.7154], device='cuda:0')\n",
      "data: tensor([[5.9047e+01, 5.4974e+01, 1.1660e+03, 6.0662e+02, 7.1540e-01, 1.0000e+00]], device='cuda:0')\n",
      "id: None\n",
      "is_track: False\n",
      "orig_shape: (640, 1200)\n",
      "shape: torch.Size([1, 6])\n",
      "xywh: tensor([[ 612.5459,  330.7948, 1106.9976,  551.6407]], device='cuda:0')\n",
      "xywhn: tensor([[0.5105, 0.5169, 0.9225, 0.8619]], device='cuda:0')\n",
      "xyxy: tensor([[  59.0472,   54.9744, 1166.0447,  606.6151]], device='cuda:0')\n",
      "xyxyn: tensor([[0.0492, 0.0859, 0.9717, 0.9478]], device='cuda:0')\n",
      "Keypoints: \n",
      "None\n"
     ]
    }
   ],
   "source": [
    "# Process results list\n",
    "for result in results:\n",
    "    boxes = result.boxes  # Boxes object for bounding box outputs\n",
    "    print('2D bounding box: ')\n",
    "    print(boxes)\n",
    "    # masks = result.masks  # Masks object for segmentation masks outputs\n",
    "    keypoints = result.keypoints  # Keypoints object for pose outputs\n",
    "    print('Keypoints: ')\n",
    "    print(keypoints)\n",
    "    probs = result.probs  # Probs object for classification outputs\n",
    "    result.show()  # display to screen\n",
    "    # result.save(filename='./predictions/result.jpg')  # save to disk"
   ]
  },
  {
   "cell_type": "code",
   "execution_count": null,
   "id": "f3ef845d-376d-4aca-8c87-c5e050ea21a4",
   "metadata": {},
   "outputs": [],
   "source": []
  }
 ],
 "metadata": {
  "kernelspec": {
   "display_name": "Python 3 (ipykernel)",
   "language": "python",
   "name": "python3"
  },
  "language_info": {
   "codemirror_mode": {
    "name": "ipython",
    "version": 3
   },
   "file_extension": ".py",
   "mimetype": "text/x-python",
   "name": "python",
   "nbconvert_exporter": "python",
   "pygments_lexer": "ipython3",
   "version": "3.11.5"
  }
 },
 "nbformat": 4,
 "nbformat_minor": 5
}
